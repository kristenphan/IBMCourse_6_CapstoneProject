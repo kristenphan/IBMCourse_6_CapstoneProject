{
    "cells": [
        {
            "cell_type": "markdown",
            "metadata": {
                "collapsed": true
            },
            "source": "<img src = \"https://res.cloudinary.com/cityunscripted/image/upload/s--7t8HSmQ2--/c_fill,f_auto,g_auto:subject,h_270,q_auto,w_375/v1561714908/production/experiences/amsterdam/eat-and-drink-like-a-local-in-amsterdam/ubu2xkch5ihstkm0ruur.jpg\" width = 400> </a>"
        },
        {
            "cell_type": "markdown",
            "metadata": {},
            "source": "<h1 align=center><font size = 6>Capstone Project: Food and Culture in Amsterdam by Kristen Phan</font></h1>\n<h1 align=center><font size = 5>Applied Data Science Capstone Course by IBM/Coursera</font></h1>"
        },
        {
            "cell_type": "markdown",
            "metadata": {},
            "source": "## Table of Contents\n\n<div class=\"alert alert-block alert-info\" style=\"margin-top: 20px\">\n\n1. [Introduction](#introduction)<br>\n2. [Data](#data)<br>\n3. [Methodology](#methodology) <br>\n4. [Analysis](#analysis) <br>\n5. [Results and Discussion](#results) <br>\n6. [Conclusion](#conclusion) <br>\n</div>\n<hr>"
        },
        {
            "cell_type": "markdown",
            "metadata": {},
            "source": "GRADING RUBIC\n\n1. Introduction where you discuss the business problem and who would be interested in this project.\n2. Data where you describe the data that will be used to solve the problem and the source of the data.\n3. Methodology section which represents the main component of the report where you discuss and describe any exploratory data analysis that you did, any inferential statistical testing that you performed, if any, and what machine learnings were used and why.\n4. Results section where you discuss the results.\n5. Discussion section where you discuss any observations you noted and any recommendations you can make based on the results.\n6. Conclusion section where you conclude the report.\n\n"
        },
        {
            "cell_type": "markdown",
            "metadata": {},
            "source": "## 1. Introduction <a name=\"introduction\"></a>"
        },
        {
            "cell_type": "markdown",
            "metadata": {},
            "source": "As a wise man once said, \u201cFood is a central activity of mankind and one of the single most significant trademarks of a culture,\u201d I am now taking a step further and analyze the diversity in the cuisine offered by the beautiful city Amsterdam as a proxy to the diversity in its culture. In this notebook, I will be walking with you along the streets of Amsterdam and cherishing its culture through a new lens that sees through the power of Data Science, stomachs and hearts __(*puns intended*).__"
        },
        {
            "cell_type": "markdown",
            "metadata": {},
            "source": "This notebook is for the Applied Data Science Capstone course. The prompt is that course participants define a problem or an idea of their choice, where they would need to leverage the Foursquare location data via Foursquare API to solve or execute."
        },
        {
            "cell_type": "markdown",
            "metadata": {},
            "source": "Course URL: https://www.coursera.org/learn/applied-data-science-capstone/"
        },
        {
            "cell_type": "markdown",
            "metadata": {},
            "source": "Key concepts/tools applied in this capstone project: Data science methodology, Jupyter notebook, RESTful API, .... STOP HERE"
        },
        {
            "cell_type": "markdown",
            "metadata": {},
            "source": "## 2. Data <a name=\"data\"></a>"
        },
        {
            "cell_type": "markdown",
            "metadata": {},
            "source": ""
        },
        {
            "cell_type": "markdown",
            "metadata": {},
            "source": "### Data Source #1: Neighborhood Candidates"
        },
        {
            "cell_type": "markdown",
            "metadata": {},
            "source": "The first source of data is the location of neighborhoods in Amsterdam, latitudes and longitude coordinates. Each of these neighborhood will be analyzed later for its diversity in cuisine (using restaurant data from Foursquares) and demographics. \n<br>\n<br>\nData source in geojson format: http://data.insideairbnb.com/the-netherlands/north-holland/amsterdam/2019-12-07/visualisations/neighbourhoods.geojson"
        },
        {
            "cell_type": "code",
            "execution_count": 2,
            "metadata": {},
            "outputs": [
                {
                    "name": "stdout",
                    "output_type": "stream",
                    "text": "Collecting geopandas\n\u001b[?25l  Downloading https://files.pythonhosted.org/packages/5b/0c/e6c99e561b03482220f00443f610ccf4dce9b50f4b1093d735f93c6fc8c6/geopandas-0.6.2-py2.py3-none-any.whl (919kB)\n\u001b[K     |\u2588\u2588\u2588\u2588\u2588\u2588\u2588\u2588\u2588\u2588\u2588\u2588\u2588\u2588\u2588\u2588\u2588\u2588\u2588\u2588\u2588\u2588\u2588\u2588\u2588\u2588\u2588\u2588\u2588\u2588\u2588\u2588| 921kB 15.2MB/s eta 0:00:01\n\u001b[?25hCollecting fiona (from geopandas)\n\u001b[?25l  Downloading https://files.pythonhosted.org/packages/50/f7/9899f8a9a2e38601472fe1079ce5088f58833221c8b8507d8b5eafd5404a/Fiona-1.8.13-cp36-cp36m-manylinux1_x86_64.whl (11.8MB)\n\u001b[K     |\u2588\u2588\u2588\u2588\u2588\u2588\u2588\u2588\u2588\u2588\u2588\u2588\u2588\u2588\u2588\u2588\u2588\u2588\u2588\u2588\u2588\u2588\u2588\u2588\u2588\u2588\u2588\u2588\u2588\u2588\u2588\u2588| 11.8MB 23.4MB/s eta 0:00:01\n\u001b[?25hRequirement already satisfied: pandas>=0.23.0 in /opt/conda/envs/Python36/lib/python3.6/site-packages (from geopandas) (0.24.1)\nCollecting pyproj (from geopandas)\n\u001b[?25l  Downloading https://files.pythonhosted.org/packages/d6/70/eedc98cd52b86de24a1589c762612a98bea26cde649ffdd60c1db396cce8/pyproj-2.4.2.post1-cp36-cp36m-manylinux2010_x86_64.whl (10.1MB)\n\u001b[K     |\u2588\u2588\u2588\u2588\u2588\u2588\u2588\u2588\u2588\u2588\u2588\u2588\u2588\u2588\u2588\u2588\u2588\u2588\u2588\u2588\u2588\u2588\u2588\u2588\u2588\u2588\u2588\u2588\u2588\u2588\u2588\u2588| 10.1MB 64.0MB/s eta 0:00:01\n\u001b[?25hCollecting shapely (from geopandas)\n\u001b[?25l  Downloading https://files.pythonhosted.org/packages/38/b6/b53f19062afd49bb5abd049aeed36f13bf8d57ef8f3fa07a5203531a0252/Shapely-1.6.4.post2-cp36-cp36m-manylinux1_x86_64.whl (1.5MB)\n\u001b[K     |\u2588\u2588\u2588\u2588\u2588\u2588\u2588\u2588\u2588\u2588\u2588\u2588\u2588\u2588\u2588\u2588\u2588\u2588\u2588\u2588\u2588\u2588\u2588\u2588\u2588\u2588\u2588\u2588\u2588\u2588\u2588\u2588| 1.5MB 26.3MB/s eta 0:00:01\n\u001b[?25hRequirement already satisfied: six>=1.7 in /opt/conda/envs/Python36/lib/python3.6/site-packages (from fiona->geopandas) (1.12.0)\nRequirement already satisfied: attrs>=17 in /opt/conda/envs/Python36/lib/python3.6/site-packages (from fiona->geopandas) (18.2.0)\nRequirement already satisfied: click<8,>=4.0 in /opt/conda/envs/Python36/lib/python3.6/site-packages (from fiona->geopandas) (7.0)\nCollecting cligj>=0.5 (from fiona->geopandas)\n  Downloading https://files.pythonhosted.org/packages/e4/be/30a58b4b0733850280d01f8bd132591b4668ed5c7046761098d665ac2174/cligj-0.5.0-py3-none-any.whl\nCollecting munch (from fiona->geopandas)\n  Downloading https://files.pythonhosted.org/packages/cc/ab/85d8da5c9a45e072301beb37ad7f833cd344e04c817d97e0cc75681d248f/munch-2.5.0-py2.py3-none-any.whl\nCollecting click-plugins>=1.0 (from fiona->geopandas)\n  Downloading https://files.pythonhosted.org/packages/e9/da/824b92d9942f4e472702488857914bdd50f73021efea15b4cad9aca8ecef/click_plugins-1.1.1-py2.py3-none-any.whl\nRequirement already satisfied: python-dateutil>=2.5.0 in /opt/conda/envs/Python36/lib/python3.6/site-packages (from pandas>=0.23.0->geopandas) (2.7.5)\nRequirement already satisfied: pytz>=2011k in /opt/conda/envs/Python36/lib/python3.6/site-packages (from pandas>=0.23.0->geopandas) (2018.9)\nRequirement already satisfied: numpy>=1.12.0 in /opt/conda/envs/Python36/lib/python3.6/site-packages (from pandas>=0.23.0->geopandas) (1.15.4)\nInstalling collected packages: cligj, munch, click-plugins, fiona, pyproj, shapely, geopandas\nSuccessfully installed click-plugins-1.1.1 cligj-0.5.0 fiona-1.8.13 geopandas-0.6.2 munch-2.5.0 pyproj-2.4.2.post1 shapely-1.6.4.post2\nLibraries downloaded!\n"
                }
            ],
            "source": "# import libraries to process geospatial data in the form of geojson file and other required libraries\n!pip install geopandas\nimport geopandas as gpd\nimport numpy as np\nimport pandas as pd\nimport shapely\nimport fiona\nimport pyproj\nimport six\nimport matplotlib as plt\nprint('Libraries downloaded!')"
        },
        {
            "cell_type": "code",
            "execution_count": 3,
            "metadata": {
                "scrolled": true
            },
            "outputs": [
                {
                    "name": "stdout",
                    "output_type": "stream",
                    "text": "--2020-01-09 23:57:44--  http://data.insideairbnb.com/the-netherlands/north-holland/amsterdam/2019-12-07/visualisations/neighbourhoods.geojson\nResolving data.insideairbnb.com (data.insideairbnb.com)... 52.217.46.219\nConnecting to data.insideairbnb.com (data.insideairbnb.com)|52.217.46.219|:80... connected.\nHTTP request sent, awaiting response... 200 OK\nLength: 253697 (248K) [application/octet-stream]\nSaving to: \u2018ams.geojson\u2019\n\n100%[======================================>] 253,697     96.8KB/s   in 2.6s   \n\n2020-01-09 23:57:48 (96.8 KB/s) - \u2018ams.geojson\u2019 saved [253697/253697]\n\ndone\n"
                }
            ],
            "source": "# download geospatial data of neighborhoods in Amsterdam\n!wget -O ams.geojson http://data.insideairbnb.com/the-netherlands/north-holland/amsterdam/2019-12-07/visualisations/neighbourhoods.geojson\nprint('done')"
        },
        {
            "cell_type": "code",
            "execution_count": 11,
            "metadata": {},
            "outputs": [
                {
                    "name": "stdout",
                    "output_type": "stream",
                    "text": "Data type:  <class 'geopandas.geodataframe.GeoDataFrame'>\nNumber of neighborhoods in Amsterdam:  22\n"
                },
                {
                    "data": {
                        "text/html": "<div>\n<style scoped>\n    .dataframe tbody tr th:only-of-type {\n        vertical-align: middle;\n    }\n\n    .dataframe tbody tr th {\n        vertical-align: top;\n    }\n\n    .dataframe thead th {\n        text-align: right;\n    }\n</style>\n<table border=\"1\" class=\"dataframe\">\n  <thead>\n    <tr style=\"text-align: right;\">\n      <th></th>\n      <th>neighbourhood</th>\n      <th>neighbourhood_group</th>\n      <th>geometry</th>\n    </tr>\n  </thead>\n  <tbody>\n    <tr>\n      <th>0</th>\n      <td>Bijlmer-Oost</td>\n      <td>None</td>\n      <td>MULTIPOLYGON Z (((4.99167 52.32444 43.06929, 4...</td>\n    </tr>\n    <tr>\n      <th>1</th>\n      <td>Noord-Oost</td>\n      <td>None</td>\n      <td>MULTIPOLYGON Z (((5.07916 52.38865 42.95663, 5...</td>\n    </tr>\n    <tr>\n      <th>2</th>\n      <td>Noord-West</td>\n      <td>None</td>\n      <td>MULTIPOLYGON Z (((4.93072 52.41161 42.91539, 4...</td>\n    </tr>\n    <tr>\n      <th>3</th>\n      <td>Oud-Noord</td>\n      <td>None</td>\n      <td>MULTIPOLYGON Z (((4.95242 52.38983 42.95411, 4...</td>\n    </tr>\n    <tr>\n      <th>4</th>\n      <td>IJburg - Zeeburgereiland</td>\n      <td>None</td>\n      <td>MULTIPOLYGON Z (((5.03906 52.35458 43.01664, 5...</td>\n    </tr>\n  </tbody>\n</table>\n</div>",
                        "text/plain": "              neighbourhood neighbourhood_group  \\\n0              Bijlmer-Oost                None   \n1                Noord-Oost                None   \n2                Noord-West                None   \n3                 Oud-Noord                None   \n4  IJburg - Zeeburgereiland                None   \n\n                                            geometry  \n0  MULTIPOLYGON Z (((4.99167 52.32444 43.06929, 4...  \n1  MULTIPOLYGON Z (((5.07916 52.38865 42.95663, 5...  \n2  MULTIPOLYGON Z (((4.93072 52.41161 42.91539, 4...  \n3  MULTIPOLYGON Z (((4.95242 52.38983 42.95411, 4...  \n4  MULTIPOLYGON Z (((5.03906 52.35458 43.01664, 5...  "
                    },
                    "execution_count": 11,
                    "metadata": {},
                    "output_type": "execute_result"
                }
            ],
            "source": "# read the neighborhoods geojson file into a geo data frame\nneighborhoods = gpd.read_file('ams.geojson')\nprint('Data type: ',type(neighborhoods))\nprint('Number of neighborhoods in Amsterdam: ',neighborhoods.shape[0])\nneighborhoods.head()\n"
        },
        {
            "cell_type": "code",
            "execution_count": 26,
            "metadata": {},
            "outputs": [
                {
                    "data": {
                        "image/svg+xml": "<svg xmlns=\"http://www.w3.org/2000/svg\" xmlns:xlink=\"http://www.w3.org/1999/xlink\" width=\"100.0\" height=\"100.0\" viewBox=\"4.955145519999999 52.30638852 0.043374960000001295 0.026377959999997813\" preserveAspectRatio=\"xMinYMin meet\"><g transform=\"matrix(1,0,0,-1,0,104.63915499999999)\"><g><path fill-rule=\"evenodd\" fill=\"#66cc99\" stroke=\"#555555\" stroke-width=\"0.0008674992000000259\" opacity=\"0.6\" d=\"M 4.991669,52.324436 L 4.991756,52.324289 L 4.991828,52.324175 L 4.991894,52.324077 L 4.991952,52.323996 L 4.992036,52.32387 L 4.992109,52.323767 L 4.99217,52.323706 L 4.992597,52.323135 L 4.993457,52.32195 L 4.994212,52.321029 L 4.99435,52.320829 L 4.994392,52.320774 L 4.994407,52.32076 L 4.994621,52.320511 L 4.994822,52.320267 L 4.994834,52.320241 L 4.994884,52.320184 L 4.995243,52.319674 L 4.99541,52.319446 L 4.995604,52.31921 L 4.995819,52.318968 L 4.996035,52.318706 L 4.99612,52.318579 L 4.996189,52.318501 L 4.996431,52.318201 L 4.996455,52.318169 L 4.996719,52.317849 L 4.996734,52.317824 L 4.996914,52.317652 L 4.996334,52.317348 L 4.995533,52.316932 L 4.995051,52.31669 L 4.994432,52.316389 L 4.994223,52.316289 L 4.993805,52.316093 L 4.993385,52.315898 L 4.992748,52.31561 L 4.99232,52.31542 L 4.991889,52.315234 L 4.991456,52.315049 L 4.991135,52.314914 L 4.990612,52.314698 L 4.990086,52.314486 L 4.989555,52.314278 L 4.989129,52.314114 L 4.988382,52.313833 L 4.988081,52.313724 L 4.987629,52.31356 L 4.986869,52.313294 L 4.98641,52.313138 L 4.986101,52.313036 L 4.984607,52.312522 L 4.978672,52.310487 L 4.971418,52.307995 L 4.967561,52.312216 L 4.965176,52.314817 L 4.963354,52.316826 L 4.959333,52.321219 L 4.956752,52.324045 L 4.957535,52.324319 L 4.961027,52.325519 L 4.962509,52.326036 L 4.964042,52.326555 L 4.967542,52.327758 L 4.968461,52.327221 L 4.96887,52.326984 L 4.96921,52.326783 L 4.969567,52.326547 L 4.969609,52.326518 L 4.970255,52.326169 L 4.970403,52.326252 L 4.970501,52.326302 L 4.970712,52.326406 L 4.970824,52.326465 L 4.97086,52.326486 L 4.970954,52.326544 L 4.971059,52.326616 L 4.971088,52.326639 L 4.971142,52.326686 L 4.971172,52.326716 L 4.97122,52.326771 L 4.971313,52.326887 L 4.971364,52.326958 L 4.971808,52.327473 L 4.972153,52.327716 L 4.973415,52.328474 L 4.974025,52.328907 L 4.974507,52.329327 L 4.974825,52.329701 L 4.975003,52.329977 L 4.975307,52.330562 L 4.975635,52.330607 L 4.975962,52.330636 L 4.976343,52.33065 L 4.977136,52.330642 L 4.977947,52.33116 L 4.978346,52.331077 L 4.978399,52.331074 L 4.978599,52.331065 L 4.979799,52.331003 L 4.98051,52.330783 L 4.980683,52.330761 L 4.980912,52.330762 L 4.981135,52.33077 L 4.98165,52.330805 L 4.982071,52.330803 L 4.98252,52.330804 L 4.983082,52.330768 L 4.983355,52.330747 L 4.983675,52.330709 L 4.983966,52.330667 L 4.984166,52.330625 L 4.984476,52.330564 L 4.984789,52.330481 L 4.984947,52.330428 L 4.985098,52.330363 L 4.985302,52.330259 L 4.985498,52.330144 L 4.986039,52.329811 L 4.986368,52.329599 L 4.986526,52.329486 L 4.986636,52.329413 L 4.987182,52.329 L 4.987287,52.328936 L 4.987372,52.328885 L 4.987648,52.328729 L 4.988751,52.328154 L 4.988916,52.328065 L 4.989054,52.327981 L 4.989224,52.327863 L 4.98942,52.327714 L 4.989555,52.327595 L 4.98965,52.327507 L 4.990477,52.326643 L 4.990717,52.326378 L 4.99079,52.326283 L 4.990857,52.326187 L 4.990911,52.326102 L 4.990961,52.326016 L 4.991007,52.325929 L 4.991055,52.325828 L 4.991165,52.325565 L 4.991436,52.324935 L 4.991614,52.324538 L 4.991669,52.324436 z\" /></g></g></svg>",
                        "text/plain": "<shapely.geometry.multipolygon.MultiPolygon at 0x7f8e3fed7080>"
                    },
                    "execution_count": 26,
                    "metadata": {},
                    "output_type": "execute_result"
                }
            ],
            "source": "# print a sample map of Bijimer-Oost neighborhood using geojson file\nneighborhoods.iloc[0]['geometry']"
        },
        {
            "cell_type": "code",
            "execution_count": null,
            "metadata": {},
            "outputs": [],
            "source": ""
        },
        {
            "cell_type": "markdown",
            "metadata": {},
            "source": "### Data source #2: Foursquare API"
        },
        {
            "cell_type": "markdown",
            "metadata": {},
            "source": "Foursquare is a global location technology company powering location needs for various businesses including Uber and Twitter. In this project, I will obtain locations of restaurants in Amsterdam through Foursquare API. Details on each restaurant include: type of cuisine (e.g. Italian), pricing points, and locations. "
        },
        {
            "cell_type": "code",
            "execution_count": 1,
            "metadata": {},
            "outputs": [
                {
                    "name": "stdout",
                    "output_type": "stream",
                    "text": "Your credentails:\nCLIENT_ID: YHN5CBFULARYVJSM1NIOR50MDHEKZHKNZIV4QWXMY31I1M2K\nCLIENT_SECRET:VCH4GRZZLOXISH3IEV34CCOX55F10LAAPQNDA0HL4VLIQCT5\n"
                }
            ],
            "source": "# The code was removed by Watson Studio for sharing."
        },
        {
            "cell_type": "code",
            "execution_count": null,
            "metadata": {},
            "outputs": [],
            "source": ""
        },
        {
            "cell_type": "code",
            "execution_count": null,
            "metadata": {
                "scrolled": false
            },
            "outputs": [],
            "source": ""
        },
        {
            "cell_type": "markdown",
            "metadata": {},
            "source": "### Data source #3: Amsterdam Demographics Data"
        },
        {
            "cell_type": "markdown",
            "metadata": {},
            "source": "Filter: population by immigration background\nhttps://opendata.cbs.nl/statline/#/CBS/en/dataset/37296eng/table?ts=1578560881536"
        },
        {
            "cell_type": "markdown",
            "metadata": {},
            "source": "same info - wiki table: https://en.wikipedia.org/wiki/Amsterdam"
        },
        {
            "cell_type": "markdown",
            "metadata": {},
            "source": "## 3. Methodology <a name=\"methodology\"></a>"
        },
        {
            "cell_type": "code",
            "execution_count": null,
            "metadata": {},
            "outputs": [],
            "source": ""
        },
        {
            "cell_type": "markdown",
            "metadata": {},
            "source": "## 4. Analysis <a name=\"analysis\"></a>"
        },
        {
            "cell_type": "code",
            "execution_count": null,
            "metadata": {},
            "outputs": [],
            "source": ""
        },
        {
            "cell_type": "markdown",
            "metadata": {},
            "source": "## 5. Results and Discussion <a name=\"results\"></a>"
        },
        {
            "cell_type": "code",
            "execution_count": null,
            "metadata": {},
            "outputs": [],
            "source": ""
        },
        {
            "cell_type": "markdown",
            "metadata": {},
            "source": "## 6. Conclusion <a name=\"conclusion\"></a>"
        },
        {
            "cell_type": "code",
            "execution_count": null,
            "metadata": {},
            "outputs": [],
            "source": ""
        }
    ],
    "metadata": {
        "kernelspec": {
            "display_name": "Python 3.6",
            "language": "python",
            "name": "python3"
        },
        "language_info": {
            "codemirror_mode": {
                "name": "ipython",
                "version": 3
            },
            "file_extension": ".py",
            "mimetype": "text/x-python",
            "name": "python",
            "nbconvert_exporter": "python",
            "pygments_lexer": "ipython3",
            "version": "3.6.8"
        }
    },
    "nbformat": 4,
    "nbformat_minor": 1
}