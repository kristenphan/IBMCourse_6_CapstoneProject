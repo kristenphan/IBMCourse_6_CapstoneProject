{
    "cells": [
        {
            "cell_type": "markdown",
            "metadata": {
                "collapsed": true
            },
            "source": "<img src = \"https://res.cloudinary.com/cityunscripted/image/upload/s--7t8HSmQ2--/c_fill,f_auto,g_auto:subject,h_270,q_auto,w_375/v1561714908/production/experiences/amsterdam/eat-and-drink-like-a-local-in-amsterdam/ubu2xkch5ihstkm0ruur.jpg\" width = 400> </a>"
        },
        {
            "cell_type": "markdown",
            "metadata": {},
            "source": "<h1 align=center><font size = 6>Capstone Project: Food and Culture in Amsterdam by Kristen Phan</font></h1>\n<h1 align=center><font size = 5>Applied Data Science Capstone Course by IBM/Coursera</font></h1>"
        },
        {
            "cell_type": "markdown",
            "metadata": {},
            "source": "## Table of Contents\n\n<div class=\"alert alert-block alert-info\" style=\"margin-top: 20px\">\n\n1. [Introduction](#introduction)<br>\n2. [Data](#data)<br>\n3. [Methodology](#methodology) <br>\n4. [Analysis](#analysis) <br>\n5. [Results and Discussion](#results) <br>\n6. [Conclusion](#conclusion) <br>\n</div>\n<hr>"
        },
        {
            "cell_type": "markdown",
            "metadata": {},
            "source": "## 1. Introduction <a name=\"introduction\"></a>"
        },
        {
            "cell_type": "markdown",
            "metadata": {},
            "source": "As a wise man once said, \u201cFood is a central activity of mankind and one of the single most significant trademarks of a culture,\u201d I am now taking a step further and analyze the diversity in the cuisine offered by the beautiful city Amsterdam as a proxy to the diversity in its culture. In this capstone project, I will be walking with you along the streets of Amsterdam and cherishing its culture through a new lens that sees through the power of Data Science, stomachs and hearts __(*puns intended*).__"
        },
        {
            "cell_type": "markdown",
            "metadata": {},
            "source": "This capstone project is for the Applied Data Science Capstone course. The prompt is that course participants define a problem or an idea of their choice, where they would need to leverage the Foursquare location data via Foursquare API to solve or execute."
        },
        {
            "cell_type": "markdown",
            "metadata": {},
            "source": "Course URL: https://www.coursera.org/learn/applied-data-science-capstone/"
        },
        {
            "cell_type": "markdown",
            "metadata": {},
            "source": "Key concepts/tools applied in this capstone project: Data science methodology, Jupyter notebook, RESTful API, .... STOP HERE"
        },
        {
            "cell_type": "markdown",
            "metadata": {},
            "source": "## 2. Data <a name=\"data\"></a>"
        },
        {
            "cell_type": "code",
            "execution_count": null,
            "metadata": {},
            "outputs": [],
            "source": ""
        },
        {
            "cell_type": "markdown",
            "metadata": {},
            "source": "### Data Source #1: Neighborhood Candidates"
        },
        {
            "cell_type": "code",
            "execution_count": null,
            "metadata": {},
            "outputs": [],
            "source": ""
        },
        {
            "cell_type": "markdown",
            "metadata": {},
            "source": "### Data source #2: Foursquare API"
        },
        {
            "cell_type": "code",
            "execution_count": null,
            "metadata": {},
            "outputs": [],
            "source": ""
        },
        {
            "cell_type": "markdown",
            "metadata": {},
            "source": "## 3. Methodology <a name=\"methodology\"></a>"
        },
        {
            "cell_type": "code",
            "execution_count": null,
            "metadata": {},
            "outputs": [],
            "source": ""
        },
        {
            "cell_type": "markdown",
            "metadata": {},
            "source": "## 4. Analysis <a name=\"analysis\"></a>"
        },
        {
            "cell_type": "code",
            "execution_count": null,
            "metadata": {},
            "outputs": [],
            "source": ""
        },
        {
            "cell_type": "markdown",
            "metadata": {},
            "source": "## 5. Results and Discussion <a name=\"results\"></a>"
        },
        {
            "cell_type": "code",
            "execution_count": null,
            "metadata": {},
            "outputs": [],
            "source": ""
        },
        {
            "cell_type": "markdown",
            "metadata": {},
            "source": "## 6. Conclusion <a name=\"conclusion\"></a>"
        },
        {
            "cell_type": "code",
            "execution_count": null,
            "metadata": {},
            "outputs": [],
            "source": ""
        }
    ],
    "metadata": {
        "kernelspec": {
            "display_name": "Python 3.6",
            "language": "python",
            "name": "python3"
        },
        "language_info": {
            "codemirror_mode": {
                "name": "ipython",
                "version": 3
            },
            "file_extension": ".py",
            "mimetype": "text/x-python",
            "name": "python",
            "nbconvert_exporter": "python",
            "pygments_lexer": "ipython3",
            "version": "3.6.8"
        }
    },
    "nbformat": 4,
    "nbformat_minor": 1
}